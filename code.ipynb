{
 "cells": [
  {
   "attachments": {},
   "cell_type": "markdown",
   "metadata": {},
   "source": [
    "# Contents  \n",
    "1. [Extraction](#1)     \n",
    "2. [Exploratory Data Analysis (EDA)](#2) \n",
    "3. [Transformation & Analysis](#3) \n",
    "    1. [Age Category Column (Optional)](#3.1) \n",
    "    2. [Risk Group Category Column (Optional)](#3.2) \n",
    "    3. [Muti Risk Factors Category Column (Optional)](#3.3) \n",
    "4. [Data Visualization](#4)\n",
    "5. [Prediction](#5)\n"
   ]
  },
  {
   "cell_type": "code",
   "execution_count": null,
   "metadata": {
    "vscode": {
     "languageId": "plaintext"
    }
   },
   "outputs": [],
   "source": []
  }
 ],
 "metadata": {
  "language_info": {
   "name": "python"
  },
  "orig_nbformat": 4
 },
 "nbformat": 4,
 "nbformat_minor": 2
}

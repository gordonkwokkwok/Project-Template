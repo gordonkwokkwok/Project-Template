# Contents  
1. [Extraction](#1)     
2. [Exploratory Data Analysis (EDA)](#2) 
3. [Transformation & Analysis](#3) 
    1. [Age Category Column (Optional)](#3.1) 
    2. [Risk Group Category Column (Optional)](#3.2) 
    3. [Muti Risk Factors Category Column (Optional)](#3.3) 
4. [Data Visualization](#4)
5. [Prediction](#5)
